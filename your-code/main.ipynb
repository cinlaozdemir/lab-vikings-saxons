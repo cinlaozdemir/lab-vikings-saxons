{
 "cells": [
  {
   "cell_type": "markdown",
   "metadata": {},
   "source": [
    "# Lab | Classes: Vikings vs Saxons\n",
    "\n",
    "The Vikings and Saxons are at war. The moment to fight has come!"
   ]
  },
  {
   "cell_type": "markdown",
   "metadata": {},
   "source": [
    "<div style=\"text-align:center\">\n",
    "  <img src=\"https://media.giphy.com/media/3o7qDLwhxkGTMvDHws/giphy.gif\" width=400px>\n",
    "</div>"
   ]
  },
  {
   "cell_type": "markdown",
   "metadata": {},
   "source": [
    "### Import module\n",
    "To go to war, you need brave soldiers. \n",
    "\n",
    "**Import `soldiers` from module `battle`. Use `bs` as an alias for your import. You'll also need module `random`. Import both of them in the cell below.**"
   ]
  },
  {
   "cell_type": "code",
   "execution_count": 1,
   "metadata": {},
   "outputs": [],
   "source": [
    "#restart the kernel if you change anything in soldiers.py\n",
    "from battle import soldiers as bs\n",
    "import random"
   ]
  },
  {
   "cell_type": "code",
   "execution_count": null,
   "metadata": {},
   "outputs": [],
   "source": [
    "#to create a solder:\n",
    "Soldier1=bs.Soldier(100,15)\n",
    "Soldier2=bs.Soldier(50, 30)"
   ]
  },
  {
   "cell_type": "code",
   "execution_count": null,
   "metadata": {},
   "outputs": [],
   "source": [
    "#now to check the strength of Soldier1. we need the library to\n",
    "#access the class.\n",
    "Soldier2.strength\n",
    "print(Soldier2.health)"
   ]
  },
  {
   "cell_type": "code",
   "execution_count": null,
   "metadata": {},
   "outputs": [],
   "source": [
    "#if we want to remove health points from soldier2. use receive damage from object Soldier1\n",
    "Soldier2.receive_damage(Soldier1.attack())\n",
    "print(Soldier2.health)"
   ]
  },
  {
   "cell_type": "markdown",
   "metadata": {},
   "source": [
    "Now, follow the instructions to create a simulation of the war.\n",
    "\n",
    "### Define functions\n",
    "\n",
    "**Create two empty lists called `viking_army` and `saxon_army`.**\n",
    "\n",
    "These lists will store the soldiers of each army. "
   ]
  },
  {
   "cell_type": "code",
   "execution_count": 2,
   "metadata": {},
   "outputs": [],
   "source": [
    "viking_army=[]\n",
    "saxon_army=[]"
   ]
  },
  {
   "cell_type": "markdown",
   "metadata": {},
   "source": [
    "**Define two functions called `add_viking` and `add_saxon`.** \n",
    "\n",
    "These functions will add soldiers to each army. The requirements that `add_viking` and `add_saxon` must meet are:\n",
    "\n",
    "* **add_viking**\n",
    "    - Must receive a `Viking` object as an argument.\n",
    "    - Must add the `Viking` to the `viking_army`. \n",
    "    \n",
    "* **add_saxon**\n",
    "    - Must receive a `Saxon` object as an argument.\n",
    "    - Must add the `Saxon` to the `saxon_army`. "
   ]
  },
  {
   "cell_type": "code",
   "execution_count": 3,
   "metadata": {},
   "outputs": [],
   "source": [
    "def add_viking(Viking):\n",
    "    viking_army.append(viking)\n",
    "    \n",
    "def add_saxon(Saxon):\n",
    "    saxon_army.append(saxon)"
   ]
  },
  {
   "cell_type": "markdown",
   "metadata": {},
   "source": [
    "**Define two functions called `viking_attack` and `saxon_attack`.** \n",
    "\n",
    "These functions will choose one random soldier to attack one random soldier of the opposite army. The requirements that `viking_attack` and `saxon_attack` must meet are:\n",
    "\n",
    "* **viking_attack**\n",
    "    - Must choose a `Viking` object from the `viking_army` at random.\n",
    "    - Must choose a `Saxon` object from the `saxon_army` at random. \n",
    "    - Must make the `Saxon` receive damage equal to the `strength` of the `Viking`. \n",
    "    - Must remove the `Saxon` from the army if he or she dies.\n",
    "    - Must return the result of calling the `receive_damage` method of the `Saxon`. \n",
    "    \n",
    "* **saxon_attack**\n",
    "    - Must choose a `Viking` object from the `viking_army` at random.\n",
    "    - Must choose a `Saxon` object from the `saxon_army` at random. \n",
    "    - Must make the `Viking` receive damage equal to the `strength` of the `Saxon`. \n",
    "    - Must remove the `Viking` from the army if he or she dies.\n",
    "    - Must return the result of calling the `receive_damage` method of the `Viking`."
   ]
  },
  {
   "cell_type": "code",
   "execution_count": 4,
   "metadata": {},
   "outputs": [],
   "source": [
    "def viking_attack():\n",
    "    viking=random.choice(viking_army)\n",
    "    saxon=random.choice(saxon_army)\n",
    "    saxon.receive_damage(viking.attack())\n",
    "    action=saxon.receive_damage(viking.attack())\n",
    "    if saxon.health<=0:\n",
    "        saxon_army.remove(saxon)\n",
    "        #remove method kullandığımızda hepsi farklı olduğu için silmek istediğimizi sildiğimizden emin oluyoruz normalde ilk o değerden bulduğunu siliyor\n",
    "    return action\n",
    "def saxon_attack():\n",
    "    viking = random.choice(viking_army)\n",
    "    saxon=random.choice(saxon_army)\n",
    "    action=viking.receive_damage(saxon.attack())\n",
    "    if viking.health<=0:\n",
    "        viking_army.remove(viking)\n",
    "    return action"
   ]
  },
  {
   "cell_type": "code",
   "execution_count": null,
   "metadata": {
    "scrolled": true
   },
   "outputs": [],
   "source": [
    "def suma(num1, num2):\n",
    "    num=num1+num2\n",
    "\n",
    "print(suma(3,4))\n",
    "#hiçbir şey return etmiyor function. "
   ]
  },
  {
   "cell_type": "code",
   "execution_count": null,
   "metadata": {},
   "outputs": [],
   "source": [
    "def suma(num1, num2):\n",
    "    num=num1+num2\n",
    "    return num\n",
    "\n",
    "print(suma(3,4))\n",
    "print(num) #global değil. scope farklı. "
   ]
  },
  {
   "cell_type": "code",
   "execution_count": null,
   "metadata": {},
   "outputs": [],
   "source": [
    "def suma(num1, num2):\n",
    "    num=num1+num2\n",
    "    print(num)\n",
    "a=suma(4,3)\n",
    "print(a) \n",
    "#print sadece görsel gibi düşünebiliriz. returnle gelen sayıyla bir \n",
    "#şeyler yapabiliyoruz ama printi kullanamıyoruz. "
   ]
  },
  {
   "cell_type": "code",
   "execution_count": null,
   "metadata": {},
   "outputs": [],
   "source": [
    "b=print(7)\n",
    "print(b)"
   ]
  },
  {
   "cell_type": "code",
   "execution_count": null,
   "metadata": {},
   "outputs": [],
   "source": [
    "print(b+1)\n",
    "#b is the print of 7, its not 7."
   ]
  },
  {
   "cell_type": "markdown",
   "metadata": {},
   "source": [
    "**Define a function called `show_status`.**\n",
    "This function will show the current status of the war. The requirements that `show_status` must meet are:\n",
    "\n",
    "* **show_status**\n",
    "    - If the `Saxon` list is empty, must return \"Vikings live to fight another day!\"\n",
    "    - If the `Viking` list is empty, must return \"Saxons are the last ones standing! \"\n",
    "    - If there are at least one `Viking` and one `Saxon`, must return \"Vikings and Saxons are still in the thick of battle.\"\n"
   ]
  },
  {
   "cell_type": "code",
   "execution_count": 5,
   "metadata": {},
   "outputs": [],
   "source": [
    "def show_status():\n",
    "    if not saxon_army:\n",
    "        return \"Vikings live to fight another day\"\n",
    "    elif not viking_army:\n",
    "        return \"Saxons are the last ones standing\"\n",
    "    else:\n",
    "        return \"Vikings and Saxons are still in the thick of battle\""
   ]
  },
  {
   "cell_type": "markdown",
   "metadata": {},
   "source": [
    "### Start the battle\n",
    "\n",
    "Now you have all you need to simulate the battle. First, create the soldiers.\n",
    "\n",
    "**Create as many `Viking` instances as teachers in your class and give them the appropriate names. Remember to add them to the `viking_army`.** All vikings have 100 health points and 50 strength points."
   ]
  },
  {
   "cell_type": "code",
   "execution_count": 6,
   "metadata": {},
   "outputs": [],
   "source": [
    "vik1=bs.Viking(100,50,\"Aleksey\")\n",
    "vik2=bs.Viking(100,50,\"Ema\")\n",
    "vik3=bs.Viking(100,50,\"Eva\")\n",
    "vik4=bs.Viking(100,50,\"Nacho\")\n",
    "viking_army.extend([vik1,vik2,vik3,vik4])"
   ]
  },
  {
   "cell_type": "code",
   "execution_count": 7,
   "metadata": {},
   "outputs": [
    {
     "data": {
      "text/plain": [
       "[<battle.soldiers.Viking at 0x1bd88342988>,\n",
       " <battle.soldiers.Viking at 0x1bd88342a08>,\n",
       " <battle.soldiers.Viking at 0x1bd88342548>,\n",
       " <battle.soldiers.Viking at 0x1bd88342848>]"
      ]
     },
     "execution_count": 7,
     "metadata": {},
     "output_type": "execute_result"
    }
   ],
   "source": [
    "#Another way:\n",
    "names=[\"Aleksey\", \"Eva\", \"Ema\", \"Nacho\"]\n",
    "viking_army2= [bs.Viking(100,50, n) for n in names]\n",
    "viking_army2"
   ]
  },
  {
   "cell_type": "markdown",
   "metadata": {},
   "source": [
    "**Create as many `Saxons` instances as students in your class. Remember to add them to the `saxon_army`.** All saxons have 100 health points and 15 strength points."
   ]
  },
  {
   "cell_type": "code",
   "execution_count": 8,
   "metadata": {},
   "outputs": [],
   "source": [
    "saxon_army=[bs.Saxon(100,15) for i in range(14)]"
   ]
  },
  {
   "cell_type": "markdown",
   "metadata": {},
   "source": [
    "**Finally, write the execution of the battle.**\n",
    "You will need to create a battle loop. In each iteration:\n",
    "\n",
    "- Vikings will attack first. \n",
    "- After the attack, a message of the Saxon soldier status must be printed. \n",
    "- Saxons will attack last. \n",
    "- After the attack, a message of the Viking soldier status must be printed.\n",
    "- At the end of an iteration, a message of the status of the battle must be printed.\n",
    "\n",
    "Remember to take into account that if any of the armies lose all their soldiers, the battle needs automatically and a message of the resolution of the battle must be printed."
   ]
  },
  {
   "cell_type": "code",
   "execution_count": 9,
   "metadata": {},
   "outputs": [
    {
     "name": "stdout",
     "output_type": "stream",
     "text": [
      "---------\n"
     ]
    },
    {
     "ename": "TypeError",
     "evalue": "unsupported operand type(s) for -: 'int' and 'str'",
     "output_type": "error",
     "traceback": [
      "\u001b[1;31m---------------------------------------------------------------------------\u001b[0m",
      "\u001b[1;31mTypeError\u001b[0m                                 Traceback (most recent call last)",
      "\u001b[1;32m<ipython-input-9-da4805f98b31>\u001b[0m in \u001b[0;36m<module>\u001b[1;34m\u001b[0m\n\u001b[0;32m      2\u001b[0m \u001b[1;32mwhile\u001b[0m \u001b[0mis_over\u001b[0m\u001b[1;33m==\u001b[0m\u001b[1;34m\"Vikings and Saxons are still in the thick of battle\"\u001b[0m\u001b[1;33m:\u001b[0m\u001b[1;33m\u001b[0m\u001b[1;33m\u001b[0m\u001b[0m\n\u001b[0;32m      3\u001b[0m     \u001b[0mprint\u001b[0m\u001b[1;33m(\u001b[0m\u001b[1;34m\"---------\"\u001b[0m\u001b[1;33m)\u001b[0m \u001b[1;31m#to know where iteration starts\u001b[0m\u001b[1;33m\u001b[0m\u001b[1;33m\u001b[0m\u001b[0m\n\u001b[1;32m----> 4\u001b[1;33m     \u001b[0mprint\u001b[0m\u001b[1;33m(\u001b[0m\u001b[0mviking_attack\u001b[0m\u001b[1;33m(\u001b[0m\u001b[1;33m)\u001b[0m\u001b[1;33m)\u001b[0m\u001b[1;33m\u001b[0m\u001b[1;33m\u001b[0m\u001b[0m\n\u001b[0m\u001b[0;32m      5\u001b[0m     \u001b[0mis_over\u001b[0m\u001b[1;33m=\u001b[0m\u001b[0mshow_status\u001b[0m\u001b[1;33m(\u001b[0m\u001b[1;33m)\u001b[0m\u001b[1;33m\u001b[0m\u001b[1;33m\u001b[0m\u001b[0m\n\u001b[0;32m      6\u001b[0m     \u001b[1;32mif\u001b[0m \u001b[0mis_over\u001b[0m\u001b[1;33m==\u001b[0m\u001b[1;34m\"Vikings live to fight another day\"\u001b[0m\u001b[1;33m:\u001b[0m\u001b[1;33m\u001b[0m\u001b[1;33m\u001b[0m\u001b[0m\n",
      "\u001b[1;32m<ipython-input-4-d2ef90489699>\u001b[0m in \u001b[0;36mviking_attack\u001b[1;34m()\u001b[0m\n\u001b[0;32m      2\u001b[0m     \u001b[0mviking\u001b[0m\u001b[1;33m=\u001b[0m\u001b[0mrandom\u001b[0m\u001b[1;33m.\u001b[0m\u001b[0mchoice\u001b[0m\u001b[1;33m(\u001b[0m\u001b[0mviking_army\u001b[0m\u001b[1;33m)\u001b[0m\u001b[1;33m\u001b[0m\u001b[1;33m\u001b[0m\u001b[0m\n\u001b[0;32m      3\u001b[0m     \u001b[0msaxon\u001b[0m\u001b[1;33m=\u001b[0m\u001b[0mrandom\u001b[0m\u001b[1;33m.\u001b[0m\u001b[0mchoice\u001b[0m\u001b[1;33m(\u001b[0m\u001b[0msaxon_army\u001b[0m\u001b[1;33m)\u001b[0m\u001b[1;33m\u001b[0m\u001b[1;33m\u001b[0m\u001b[0m\n\u001b[1;32m----> 4\u001b[1;33m     \u001b[0msaxon\u001b[0m\u001b[1;33m.\u001b[0m\u001b[0mreceive_damage\u001b[0m\u001b[1;33m(\u001b[0m\u001b[0mviking\u001b[0m\u001b[1;33m.\u001b[0m\u001b[0mattack\u001b[0m\u001b[1;33m(\u001b[0m\u001b[1;33m)\u001b[0m\u001b[1;33m)\u001b[0m\u001b[1;33m\u001b[0m\u001b[1;33m\u001b[0m\u001b[0m\n\u001b[0m\u001b[0;32m      5\u001b[0m     \u001b[0maction\u001b[0m\u001b[1;33m=\u001b[0m\u001b[0msaxon\u001b[0m\u001b[1;33m.\u001b[0m\u001b[0mreceive_damage\u001b[0m\u001b[1;33m(\u001b[0m\u001b[0mviking\u001b[0m\u001b[1;33m.\u001b[0m\u001b[0mattack\u001b[0m\u001b[1;33m(\u001b[0m\u001b[1;33m)\u001b[0m\u001b[1;33m)\u001b[0m\u001b[1;33m\u001b[0m\u001b[1;33m\u001b[0m\u001b[0m\n\u001b[0;32m      6\u001b[0m     \u001b[1;32mif\u001b[0m \u001b[0msaxon\u001b[0m\u001b[1;33m.\u001b[0m\u001b[0mhealth\u001b[0m\u001b[1;33m<=\u001b[0m\u001b[1;36m0\u001b[0m\u001b[1;33m:\u001b[0m\u001b[1;33m\u001b[0m\u001b[1;33m\u001b[0m\u001b[0m\n",
      "\u001b[1;32m~\\IRONHACK\\lab-vikings-saxons\\your-code\\battle\\soldiers.py\u001b[0m in \u001b[0;36mreceive_damage\u001b[1;34m(self, damage)\u001b[0m\n\u001b[0;32m     37\u001b[0m \u001b[1;33m\u001b[0m\u001b[0m\n\u001b[0;32m     38\u001b[0m     \u001b[1;32mdef\u001b[0m \u001b[0mreceive_damage\u001b[0m\u001b[1;33m(\u001b[0m\u001b[0mself\u001b[0m\u001b[1;33m,\u001b[0m\u001b[0mdamage\u001b[0m\u001b[1;33m)\u001b[0m\u001b[1;33m:\u001b[0m\u001b[1;33m\u001b[0m\u001b[1;33m\u001b[0m\u001b[0m\n\u001b[1;32m---> 39\u001b[1;33m         \u001b[0mSoldier\u001b[0m\u001b[1;33m.\u001b[0m\u001b[0mreceive_damage\u001b[0m\u001b[1;33m(\u001b[0m\u001b[0mself\u001b[0m\u001b[1;33m,\u001b[0m\u001b[0mdamage\u001b[0m\u001b[1;33m)\u001b[0m\u001b[1;33m\u001b[0m\u001b[1;33m\u001b[0m\u001b[0m\n\u001b[0m\u001b[0;32m     40\u001b[0m         \u001b[1;32mif\u001b[0m \u001b[0mself\u001b[0m\u001b[1;33m.\u001b[0m\u001b[0mhealth\u001b[0m\u001b[1;33m>\u001b[0m\u001b[1;36m0\u001b[0m\u001b[1;33m:\u001b[0m\u001b[1;33m\u001b[0m\u001b[1;33m\u001b[0m\u001b[0m\n\u001b[0;32m     41\u001b[0m             \u001b[1;32mreturn\u001b[0m \u001b[1;34mf\"A Saxon has received {damage} points of damage\"\u001b[0m\u001b[1;33m\u001b[0m\u001b[1;33m\u001b[0m\u001b[0m\n",
      "\u001b[1;32m~\\IRONHACK\\lab-vikings-saxons\\your-code\\battle\\soldiers.py\u001b[0m in \u001b[0;36mreceive_damage\u001b[1;34m(self, damage)\u001b[0m\n\u001b[0;32m     10\u001b[0m \u001b[1;33m\u001b[0m\u001b[0m\n\u001b[0;32m     11\u001b[0m     \u001b[1;32mdef\u001b[0m \u001b[0mreceive_damage\u001b[0m\u001b[1;33m(\u001b[0m\u001b[0mself\u001b[0m\u001b[1;33m,\u001b[0m \u001b[0mdamage\u001b[0m\u001b[1;33m)\u001b[0m\u001b[1;33m:\u001b[0m\u001b[1;33m\u001b[0m\u001b[1;33m\u001b[0m\u001b[0m\n\u001b[1;32m---> 12\u001b[1;33m         \u001b[0mself\u001b[0m\u001b[1;33m.\u001b[0m\u001b[0mhealth\u001b[0m\u001b[1;33m=\u001b[0m\u001b[0mself\u001b[0m\u001b[1;33m.\u001b[0m\u001b[0mhealth\u001b[0m\u001b[1;33m-\u001b[0m\u001b[0mdamage\u001b[0m\u001b[1;33m\u001b[0m\u001b[1;33m\u001b[0m\u001b[0m\n\u001b[0m\u001b[0;32m     13\u001b[0m \u001b[1;31m#damage is not an attribute of the class. it will be passed as an attrbitue for this method. so we dont have to do self.damage\u001b[0m\u001b[1;33m\u001b[0m\u001b[1;33m\u001b[0m\u001b[1;33m\u001b[0m\u001b[0m\n\u001b[0;32m     14\u001b[0m \u001b[1;33m\u001b[0m\u001b[0m\n",
      "\u001b[1;31mTypeError\u001b[0m: unsupported operand type(s) for -: 'int' and 'str'"
     ]
    }
   ],
   "source": [
    "is_over=\"Vikings and Saxons are still in the thick of battle\"\n",
    "while is_over==\"Vikings and Saxons are still in the thick of battle\":\n",
    "    print(\"---------\") #to know where iteration starts\n",
    "    print(viking_attack())\n",
    "    is_over=show_status()\n",
    "    if is_over==\"Vikings live to fight another day\":\n",
    "        print(is_over)\n",
    "        break #breaks out of the loop. it cannot be used with if. if is not a loop\n",
    "    print(saxon_attack())\n",
    "    is_over=show_status()\n",
    "    print(is_over)"
   ]
  },
  {
   "cell_type": "code",
   "execution_count": null,
   "metadata": {},
   "outputs": [],
   "source": []
  }
 ],
 "metadata": {
  "file_extension": ".py",
  "kernelspec": {
   "display_name": "Python 3",
   "language": "python",
   "name": "python3"
  },
  "language_info": {
   "codemirror_mode": {
    "name": "ipython",
    "version": 3
   },
   "file_extension": ".py",
   "mimetype": "text/x-python",
   "name": "python",
   "nbconvert_exporter": "python",
   "pygments_lexer": "ipython3",
   "version": "3.7.3"
  },
  "mimetype": "text/x-python",
  "name": "python",
  "npconvert_exporter": "python",
  "pygments_lexer": "ipython3",
  "version": 3
 },
 "nbformat": 4,
 "nbformat_minor": 2
}
